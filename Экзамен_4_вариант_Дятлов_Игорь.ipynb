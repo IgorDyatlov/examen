{
  "nbformat": 4,
  "nbformat_minor": 0,
  "metadata": {
    "colab": {
      "name": "Экзамен - 4 вариант - Дятлов Игорь.ipynb",
      "provenance": [],
      "collapsed_sections": []
    },
    "kernelspec": {
      "name": "python3",
      "display_name": "Python 3"
    }
  },
  "cells": [
    {
      "cell_type": "code",
      "metadata": {
        "id": "6rPk1RDzGz15"
      },
      "source": [
        "import re"
      ],
      "execution_count": 103,
      "outputs": []
    },
    {
      "cell_type": "markdown",
      "metadata": {
        "id": "InMDCjfzJ6u1"
      },
      "source": [
        "Эта программа рассчитана на то, что в этом коде есть данный нам код в виде строки (по типу переменной fict_code)"
      ]
    },
    {
      "cell_type": "code",
      "metadata": {
        "id": "4e3O0gZSJFQv",
        "outputId": "a2bcd252-ec9b-4390-eb13-e55595fa1acb",
        "colab": {
          "base_uri": "https://localhost:8080/",
          "height": 54
        }
      },
      "source": [
        "fict_code ='''info = list()\n",
        "for one in range(10):\n",
        " info.append(one):\n",
        "  proverka:\n",
        "   something\n",
        "for element in info:\n",
        " print(element)\n",
        "def func():\n",
        " anything\n",
        " func()\n",
        "def func2():\n",
        " again'''\n",
        "text = fict_code.split('\\n')\n",
        "print(text)"
      ],
      "execution_count": 199,
      "outputs": [
        {
          "output_type": "stream",
          "text": [
            "['info = list()', 'for one in range(10):', ' info.append(one):', '  proverka:', '   something', 'for element in info:', ' print(element)', 'def func():', ' anything', ' func()', 'def func2():', ' again']\n"
          ],
          "name": "stdout"
        }
      ]
    },
    {
      "cell_type": "code",
      "metadata": {
        "id": "YBvubaIwMIC4"
      },
      "source": [
        "def adding_simple_nodes(node_index, string):\n",
        "  main_tree['node'][str(string)] = node_index #индекс обозначает конец блока\n",
        "  i = 1\n",
        "  if (i in true_dict) == True:\n",
        "    i = 2\n",
        "    while (i in true_dict) == True:\n",
        "      i += 1\n",
        "  true_dict[i] = string"
      ],
      "execution_count": 203,
      "outputs": []
    },
    {
      "cell_type": "code",
      "metadata": {
        "id": "w14HmRONQR5R"
      },
      "source": [
        "def going_deeper(node, text, old_text, spaces):\n",
        "  little_tree = dict()\n",
        "  little_tree[node] = dict()\n",
        "  number = int(text.index(node))\n",
        "  new_text = text[number + 1:]\n",
        "  re_spaces = '^' + str(spaces * ' ') + '[a-zа-яёA-ZА-ЯЁ0-9]'\n",
        "  for new_one in new_text:\n",
        "    new_searching_back = re.search(':$', new_one)\n",
        "    new_searching_forw = re.search(re_spaces, new_one)\n",
        "    if new_searching_forw == None:\n",
        "      return little_tree\n",
        "    elif new_searching_back != None and new_searching_forw != None:\n",
        "      spaces += 1\n",
        "      little_tree[node][new_one] = going_deeper(new_one, new_text, text, spaces)[new_one]\n",
        "    elif new_searching_forw != None:\n",
        "      new_number = int(text.index(new_one))\n",
        "      little_tree[node][new_one] = new_number\n",
        "  return little_tree"
      ],
      "execution_count": 200,
      "outputs": []
    },
    {
      "cell_type": "code",
      "metadata": {
        "id": "4t-pmr9YKgMT",
        "outputId": "b9061476-07ba-4ca2-9538-0093d6d60c16",
        "colab": {
          "base_uri": "https://localhost:8080/",
          "height": 241
        }
      },
      "source": [
        "main_tree = dict()\n",
        "main_tree['node'] = dict()\n",
        "true_dict = dict()\n",
        "for one in text:\n",
        "  searching_back = re.search(':$', one)\n",
        "  searching_forw = re.search('^ ', one)\n",
        "  number = int(text.index(one))\n",
        "  if searching_forw != None:\n",
        "    continue\n",
        "  elif (searching_back == None) and (searching_forw == None):\n",
        "    adding_simple_nodes(number, one)\n",
        "  elif searching_forw == None:\n",
        "    spaces = 1\n",
        "    adding_simple_nodes(number, going_deeper(one, text, text, spaces))\n",
        "print(true_dict)\n",
        "for funct in text:\n",
        "  searching_funct = re.search('^def.+?:$', funct)\n",
        "  if searching_funct != None:\n",
        "    smth = str(searching_funct.group())\n",
        "    name = re.split('\\(.*?\\):$', smth)\n",
        "    name = str(name[0])\n",
        "    name = name[4:]\n",
        "    for i in true_dict:\n",
        "      other_string = str(true_dict[i])\n",
        "      checking = re.findall(name + '\\(.*?\\)', other_string)\n",
        "      if len(checking) > 1:\n",
        "        print('Функция ' + name + ' является рекурсивной')\n",
        "      "
      ],
      "execution_count": 204,
      "outputs": [
        {
          "output_type": "stream",
          "text": [
            "{1: 'info = list()', 2: {'for one in range(10):': {' info.append(one):': {'  proverka:': {'   something': 1}}}}, 3: {'for element in info:': {' print(element)': 6}}, 4: {'def func():': {' anything': 8, ' func()': 9}}, 5: {'def func2():': {' again': 11}}}\n",
            "[]\n",
            "[]\n",
            "[]\n",
            "['func()', 'func()']\n",
            "Функция func является рекурсивной\n",
            "[]\n",
            "[]\n",
            "[]\n",
            "[]\n",
            "[]\n",
            "['func2()']\n"
          ],
          "name": "stdout"
        }
      ]
    },
    {
      "cell_type": "code",
      "metadata": {
        "id": "6LCloaUKOq-h",
        "outputId": "cf54bfc1-a063-4f7d-d6b9-902cc9941ede",
        "colab": {
          "base_uri": "https://localhost:8080/",
          "height": 54
        }
      },
      "source": [
        "print(main_tree)"
      ],
      "execution_count": 205,
      "outputs": [
        {
          "output_type": "stream",
          "text": [
            "{'node': {'info = list()': 0, \"{'for one in range(10):': {' info.append(one):': {'  proverka:': {'   something': 1}}}}\": 1, \"{'for element in info:': {' print(element)': 6}}\": 5, \"{'def func():': {' anything': 8, ' func()': 9}}\": 7, \"{'def func2():': {' again': 11}}\": 10}}\n"
          ],
          "name": "stdout"
        }
      ]
    }
  ]
}